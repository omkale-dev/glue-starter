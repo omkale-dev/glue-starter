{
 "cells": [
  {
   "cell_type": "code",
   "execution_count": null,
   "metadata": {
    "vscode": {
     "languageId": "python"
    }
   },
   "outputs": [],
   "source": [
    "import sys\n",
    "from awsglue.transforms import *\n",
    "from awsglue.utils import getResolvedOptions\n",
    "from pyspark.context import SparkContext\n",
    "from awsglue.context import GlueContext\n",
    "from awsglue.job import Job\n",
    "import json\n",
    "import importlib\n",
    "from pyspark.sql.functions import col, coalesce, lit\n",
    "import helper_functions\n",
    "importlib.reload(helper_functions)\n",
    "\n",
    "LOCAL= True\n",
    "job_name = \"the_glue_job_one\"\n",
    "\n",
    "source_path = \"s3://<bucket>/department_data.csv\"\n",
    "mapping_path = f\"./jupyter_workspace/{job_name}/the_resources/mapping.csv\""
   ]
  },
  {
   "cell_type": "code",
   "execution_count": null,
   "metadata": {
    "vscode": {
     "languageId": "python"
    }
   },
   "outputs": [],
   "source": [
    "def glue_init():\n",
    "    sc = SparkContext.getOrCreate()\n",
    "    glueContext = GlueContext(sc)\n",
    "    spark = glueContext.spark_session\n",
    "    job = Job(glueContext)\n",
    "    # spark.conf.set(\"spark.sql.autoBroadcastJoinThreshold\", \"-1\")\n",
    "    if not LOCAL:\n",
    "        global source_path, mapping_path\n",
    "        args = getResolvedOptions(sys.argv,[\"source_path\"])\n",
    "        source_path=args[\"source_path\"]\n",
    "        print(source_path)\n",
    "        mapping_path = \"./mapping.csv\"\n",
    "   \n",
    "    return spark, glueContext, job\n",
    "\n",
    "\n",
    "def extract(glueContext, source_file):\n",
    "    source_df = helper_functions.get_source_df(glueContext, source_file)\n",
    "    return source_df\n"
   ]
  },
  {
   "cell_type": "code",
   "execution_count": null,
   "metadata": {
    "vscode": {
     "languageId": "python"
    }
   },
   "outputs": [],
   "source": [
    "# Main\n",
    "if __name__ == \"__main__\":\n",
    "    spark, glueContext, job = glue_init()\n",
    "    mapping = helper_functions.get_csv_mapping(mapping_path)\n",
    "    print(\"Mapping:\",mapping)\n",
    "    source_df = extract(glueContext, source_path)\n",
    "    source_df.show()\n"
   ]
  }
 ],
 "metadata": {
  "kernelspec": {
   "display_name": "PySpark",
   "language": "python",
   "name": "pysparkkernel"
  },
  "language_info": {
   "codemirror_mode": {
    "name": "python",
    "version": 3
   },
   "file_extension": ".py",
   "mimetype": "text/x-python",
   "name": "pyspark",
   "pygments_lexer": "python3"
  }
 },
 "nbformat": 4,
 "nbformat_minor": 4
}
